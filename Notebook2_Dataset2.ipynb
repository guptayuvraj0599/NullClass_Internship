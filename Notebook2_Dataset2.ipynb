{
 "cells": [
  {
   "cell_type": "code",
   "execution_count": 2,
   "id": "4345c6d2-1891-4c41-bfb9-185a1be548d9",
   "metadata": {},
   "outputs": [],
   "source": [
    "import pandas as pd\n",
    "import random\n",
    "from datetime import datetime, timedelta\n",
    "\n",
    "countries = ['Nigeria', 'South Africa', 'Egypt', 'Kenya', 'Ghana', 'Morocco']\n",
    "job_titles = ['Data Scientist', 'Data Analyst', 'Developer', 'Data Architect']\n",
    "contact_persons = ['Alex Johnson', 'Andrew Smith', 'Adam Davis', 'Ahmed Ali', 'Anthony Brown', 'Aaron Carter']\n",
    "qualifications = ['B.Tech', 'M.Tech', 'PhD']\n",
    "work_type = 'Full-time'\n",
    "gender = 'Male'\n",
    "job_portal = 'Indeed'\n",
    "company_sizes = [random.randint(80000, 100000) for _ in range(6)]\n",
    "latitudes = [9.0820, -30.5595, 26.8206, -1.2921, 7.9465, 31.7917]\n",
    "longitudes = [8.6753, 22.9375, 30.8025, 36.8219, -1.0232, -7.0926]\n",
    "\n",
    "# Function to generate random dates\n",
    "def random_date():\n",
    "    start_date = datetime.strptime('2022-01-01', '%Y-%m-%d')\n",
    "    end_date = datetime.strptime('2023-07-31', '%Y-%m-%d')\n",
    "    return start_date + (end_date - start_date) * random.random()\n",
    "\n",
    "# Generate dataset\n",
    "data = []\n",
    "for _ in range(500):  # Generate 500+ rows for large dataset\n",
    "    country_idx = random.randint(0, 5)\n",
    "    posting_time = f\"{random.randint(9, 14)}:{random.randint(0, 59):02d} AM\" if random.randint(9, 14) < 12 else f\"{random.randint(12, 15)}:{random.randint(0, 59):02d} PM\"\n",
    "    data.append([\n",
    "        random.choice(qualifications), work_type, countries[country_idx], random.choice(job_titles), random.randint(3, 10), \n",
    "        random.randint(100000, 160000), company_sizes[country_idx], contact_persons[country_idx], job_portal, \n",
    "        random_date().strftime('%m/%d/%Y'), posting_time, gender, latitudes[country_idx], longitudes[country_idx]\n",
    "    ])\n",
    "\n",
    "# Create DataFrame\n",
    "df = pd.DataFrame(data, columns=['Qualification', 'Work Type', 'Country', 'Job Title', 'Experience (Years)', 'Salary ($)', 'Company Size', 'Contact Person', 'Job Portal', 'Posting Date', 'Posting Time', 'Gender', 'Latitude', 'Longitude'])\n",
    "\n",
    "# Save to CSV\n",
    "df.to_csv('Data2_Task2.csv', index=False)\n"
   ]
  },
  {
   "cell_type": "code",
   "execution_count": 4,
   "id": "adb2d9c4-2263-4a48-90f5-ffe4f7798294",
   "metadata": {},
   "outputs": [
    {
     "data": {
      "text/plain": [
       "(500, 14)"
      ]
     },
     "execution_count": 4,
     "metadata": {},
     "output_type": "execute_result"
    }
   ],
   "source": [
    "df.shape"
   ]
  },
  {
   "cell_type": "code",
   "execution_count": 6,
   "id": "79342a1a-ede0-43b6-8ac1-a47b48fcfbad",
   "metadata": {},
   "outputs": [
    {
     "data": {
      "text/plain": [
       "Index(['Qualification', 'Work Type', 'Country', 'Job Title',\n",
       "       'Experience (Years)', 'Salary ($)', 'Company Size', 'Contact Person',\n",
       "       'Job Portal', 'Posting Date', 'Posting Time', 'Gender', 'Latitude',\n",
       "       'Longitude'],\n",
       "      dtype='object')"
      ]
     },
     "execution_count": 6,
     "metadata": {},
     "output_type": "execute_result"
    }
   ],
   "source": [
    "df.columns"
   ]
  },
  {
   "cell_type": "code",
   "execution_count": null,
   "id": "b9e75c2e-04d6-42f8-8e82-3ea89dde2588",
   "metadata": {},
   "outputs": [],
   "source": []
  }
 ],
 "metadata": {
  "kernelspec": {
   "display_name": "Python 3 (ipykernel)",
   "language": "python",
   "name": "python3"
  },
  "language_info": {
   "codemirror_mode": {
    "name": "ipython",
    "version": 3
   },
   "file_extension": ".py",
   "mimetype": "text/x-python",
   "name": "python",
   "nbconvert_exporter": "python",
   "pygments_lexer": "ipython3",
   "version": "3.12.3"
  }
 },
 "nbformat": 4,
 "nbformat_minor": 5
}
